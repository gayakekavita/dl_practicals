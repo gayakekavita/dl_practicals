{
 "cells": [
  {
   "cell_type": "code",
   "execution_count": null,
   "id": "29f6c197",
   "metadata": {},
   "outputs": [],
   "source": []
  },
  {
   "cell_type": "code",
   "execution_count": 5,
   "id": "a311096b",
   "metadata": {},
   "outputs": [],
   "source": [
    "import tensorflow as tf\n",
    "\n",
    "from keras.models import Sequential\n",
    "\n",
    "from keras.layers import Dense, Conv2D, Dropout, Flatten\n",
    "\n",
    "import matplotlib.pyplot as plt\n",
    "\n",
    "import numpy as np\n"
   ]
  },
  {
   "cell_type": "code",
   "execution_count": 6,
   "id": "54b4f87f",
   "metadata": {
    "scrolled": true
   },
   "outputs": [],
   "source": [
    "#a> LOADING AND PRE-PROCESSING THE IMAGE DATA\n",
    "\n",
    "mnist = tf.keras.datasets.mnist\n",
    "\n",
    "(x_train,y_train), (x_test,y_test)= mnist.load_data() #Splitting into training and testing data\n",
    "\n",
    "input_shape=(28, 28, 1)"
   ]
  },
  {
   "cell_type": "code",
   "execution_count": 10,
   "id": "f79efbdd",
   "metadata": {},
   "outputs": [],
   "source": [
    "#Making sure that the values are float so that we can get decimal points after division\n",
    "\n",
    "# Reshape the training and test data and assign it back\n",
    "x_train = x_train.reshape(x_train.shape[0], 28, 28, 1)\n",
    "x_test = x_test.reshape(x_test.shape[0], 28, 28, 1)\n",
    "\n",
    "# Convert the data to float32\n",
    "x_train = x_train.astype('float32')\n",
    "x_test = x_test.astype('float32')\n",
    "\n",
    "# Now x_train and x_test are reshaped and in float32 format\n"
   ]
  },
  {
   "cell_type": "code",
   "execution_count": 12,
   "id": "44ff1986",
   "metadata": {},
   "outputs": [
    {
     "name": "stdout",
     "output_type": "stream",
     "text": [
      "Shape of Training:  (10000, 28, 28, 1)\n"
     ]
    }
   ],
   "source": [
    "#Normalizing the RGB codes by dividing it to the max RGB value.\n",
    "\n",
    "x_train= x_train / 255\n",
    "\n",
    "x_test = x_test / 255\n",
    "\n",
    "print(\"Shape of Training: \",x_train.shape)"
   ]
  },
  {
   "cell_type": "code",
   "execution_count": null,
   "id": "5fff211d",
   "metadata": {},
   "outputs": [],
   "source": []
  },
  {
   "cell_type": "code",
   "execution_count": null,
   "id": "fe50d305",
   "metadata": {},
   "outputs": [],
   "source": [
    "2. Implementing Feedforward neural networks with Keras and TensorFlow\n",
    "a. Import the necessary packages\n",
    "b. Load the training and testing data (MNIST/CIFAR10)\n",
    "c. Define the network architecture using Keras\n",
    "d. Train the model using SGD\n",
    "e. Evaluate the network\n",
    "f. Plot the training loss and accuracy\n"
   ]
  }
 ],
 "metadata": {
  "kernelspec": {
   "display_name": "Python 3 (ipykernel)",
   "language": "python",
   "name": "python3"
  },
  "language_info": {
   "codemirror_mode": {
    "name": "ipython",
    "version": 3
   },
   "file_extension": ".py",
   "mimetype": "text/x-python",
   "name": "python",
   "nbconvert_exporter": "python",
   "pygments_lexer": "ipython3",
   "version": "3.11.3"
  }
 },
 "nbformat": 4,
 "nbformat_minor": 5
}
